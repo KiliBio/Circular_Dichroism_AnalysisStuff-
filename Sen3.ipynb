{
 "cells": [
  {
   "cell_type": "code",
   "execution_count": 1,
   "metadata": {},
   "outputs": [],
   "source": [
    "import csv\n",
    "import numpy as np\n",
    "import pandas as pd\n",
    "import matplotlib.pylab as plt\n",
    "import os\n",
    "import os.path"
   ]
  },
  {
   "cell_type": "code",
   "execution_count": 3,
   "metadata": {},
   "outputs": [],
   "source": [
    "SMALL_SIZE = 14\n",
    "MEDIUM_SIZE = 18\n",
    "BIGGER_SIZE = 22\n",
    "\n",
    "font = {'family' : 'Ubuntu',\n",
    "        'weight' : 'bold',\n",
    "        'size'   : SMALL_SIZE}\n",
    "\n",
    "plt.rc('font', **font)          # controls default text sizes\n",
    "plt.rc('axes', titlesize=BIGGER_SIZE)     # fontsize of the axes title\n",
    "plt.rc('axes', labelsize=MEDIUM_SIZE)    # fontsize of the x and y labels\n",
    "plt.rc('xtick', labelsize=SMALL_SIZE)    # fontsize of the tick labels\n",
    "plt.rc('ytick', labelsize=SMALL_SIZE)    # fontsize of the tick labels\n",
    "plt.rc('legend', fontsize=MEDIUM_SIZE)    # legend fontsize\n",
    "plt.rc('figure', titlesize=BIGGER_SIZE)  # fontsize of the figure title\n",
    "\n",
    "#plt.rcdefaults()"
   ]
  },
  {
   "cell_type": "code",
   "execution_count": 8,
   "metadata": {},
   "outputs": [],
   "source": [
    "in_txt = csv.reader(open(\"sensor3_lukas_kilian_CD.txt\", \"r\"), delimiter = '\\t')\n",
    "first_data_out = csv.writer(open(\"CSV\"+\"sensor3_lukas_kilian_CD\"+\"1.csv\", \"w\"))\n",
    "second_data_out = csv.writer(open(\"CSV\"+\"sensor3_lukas_kilian_CD\"+\"2.csv\", \"w\"))\n",
    "    \n",
    "first_data_out.writerows([[\"sensor3_lukas_kilian_CD\"]])\n",
    "second_data_out.writerows([[\"sensor3_lukas_kilian_CD\"]])\n",
    "head_flag = 0\n",
    "for i in in_txt:\n",
    "    if head_flag == 0:\n",
    "        if i[0] == \"XYDATA\":\n",
    "            first_data_out.writerows([i])\n",
    "            head_flag = 1\n",
    "        elif i[0] == \"XYDATA1\":\n",
    "            first_data_out.writerows([i])\n",
    "            head_flag = 1\n",
    "        else:\n",
    "            pass\n",
    "    elif head_flag == 1:\n",
    "        if i[0] == \"XYDATA2\":\n",
    "            second_data_out.writerows([i])\n",
    "            head_flag = 2\n",
    "        else:\n",
    "            first_data_out.writerows([i])\n",
    "    elif head_flag == 2:\n",
    "        second_data_out.writerows([i])\n",
    "    else:\n",
    "        pass"
   ]
  },
  {
   "cell_type": "code",
   "execution_count": 12,
   "metadata": {},
   "outputs": [],
   "source": [
    "cd_sen3 = pd.read_csv('CSVsensor3_lukas_kilian_CD1.csv', header=1, usecols=[0,1,2,3,4,5])\n",
    "ht_sen3 = pd.read_csv('CSVsensor3_lukas_kilian_CD2.csv', header=1, usecols=[0,1,2,3,4,5])\n",
    "tm_sen3 = pd.read_csv('CSVsensor3_lukas_kilian_tm1.csv', sep=',', header=None, skiprows=2)\n",
    "tm_sen3.columns = [\"Temp(C)\",\"CD(mdeg)\",\"HT(V)\"]"
   ]
  },
  {
   "cell_type": "code",
   "execution_count": 16,
   "metadata": {},
   "outputs": [],
   "source": [
    "cd_sen3_2 = cd_sen3.copy()\n",
    "cd_sen3_2['30'] = cd_sen3_2['30']*0.2*83900\n",
    "cd_sen3_2['50'] = cd_sen3_2['50']*0.2*83900\n",
    "cd_sen3_2['70'] = cd_sen3_2['70']*0.2*83900\n",
    "cd_sen3_2['95'] = cd_sen3_2['95']*0.2*83900"
   ]
  },
  {
   "cell_type": "code",
   "execution_count": 20,
   "metadata": {},
   "outputs": [
    {
     "ename": "AttributeError",
     "evalue": "'list' object has no attribute 'plot'",
     "output_type": "error",
     "traceback": [
      "\u001b[0;31m---------------------------------------------------------------------------\u001b[0m",
      "\u001b[0;31mAttributeError\u001b[0m                            Traceback (most recent call last)",
      "\u001b[0;32m<ipython-input-20-c50b224b6615>\u001b[0m in \u001b[0;36m<module>\u001b[0;34m()\u001b[0m\n\u001b[0;32m----> 1\u001b[0;31m cd_sen3_2 = cd_sen3_2.plot(title=\"CD TrpR wt\", figsize=(18, 10), \n\u001b[0m\u001b[1;32m      2\u001b[0m                                \u001b[0mx\u001b[0m\u001b[0;34m=\u001b[0m\u001b[0mcd_trpR_wt\u001b[0m\u001b[0;34m[\u001b[0m\u001b[0;34m\"XYDATA1\"\u001b[0m\u001b[0;34m]\u001b[0m\u001b[0;34m,\u001b[0m\u001b[0;34m\u001b[0m\u001b[0m\n\u001b[1;32m      3\u001b[0m                                xlim=(195,250), ylim=(-900000,1150000))\n\u001b[1;32m      4\u001b[0m \u001b[0;31m#lines, labels = cd_sen3_2.get_legend_handles_labels()\u001b[0m\u001b[0;34m\u001b[0m\u001b[0;34m\u001b[0m\u001b[0m\n\u001b[1;32m      5\u001b[0m \u001b[0;31m#cd_sen3_2.legend(lines[1:], labels[1:], loc='best')\u001b[0m\u001b[0;34m\u001b[0m\u001b[0;34m\u001b[0m\u001b[0m\n",
      "\u001b[0;31mAttributeError\u001b[0m: 'list' object has no attribute 'plot'"
     ]
    }
   ],
   "source": [
    "cd_sen3_2 = cd_sen3_2.plot(title=\"CD TrpR wt\", figsize=(18, 10), \n",
    "                               x=cd_trpR_wt[\"XYDATA1\"],\n",
    "                               xlim=(195,250), ylim=(-900000,1150000))\n",
    "#lines, labels = cd_sen3_2.get_legend_handles_labels()\n",
    "#cd_sen3_2.legend(lines[1:], labels[1:], loc='best')\n",
    "cd_sen3_2.set_xlabel(\"Wavelength (nm)\")\n",
    "cd_sen3_2.set_ylabel(\"$[\\\\theta]$ (deg*cm$^{2}$*dmol$^{⁻1}$)\")\n",
    "#plt.savefig('TrpR_wt_cd.pdf', bbox_inches='tight')"
   ]
  }
 ],
 "metadata": {
  "kernelspec": {
   "display_name": "Python 3",
   "language": "python",
   "name": "python3"
  },
  "language_info": {
   "codemirror_mode": {
    "name": "ipython",
    "version": 3
   },
   "file_extension": ".py",
   "mimetype": "text/x-python",
   "name": "python",
   "nbconvert_exporter": "python",
   "pygments_lexer": "ipython3",
   "version": "3.6.3"
  }
 },
 "nbformat": 4,
 "nbformat_minor": 2
}
